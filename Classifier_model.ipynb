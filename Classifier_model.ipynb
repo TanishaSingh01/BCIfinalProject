{
  "nbformat": 4,
  "nbformat_minor": 0,
  "metadata": {
    "colab": {
      "provenance": []
    },
    "kernelspec": {
      "name": "python3",
      "display_name": "Python 3"
    },
    "language_info": {
      "name": "python"
    }
  },
  "cells": [
    {
      "cell_type": "markdown",
      "source": [
        "Data Loading"
      ],
      "metadata": {
        "id": "KnphakmBTgot"
      }
    },
    {
      "cell_type": "code",
      "execution_count": 10,
      "metadata": {
        "colab": {
          "base_uri": "https://localhost:8080/",
          "height": 0
        },
        "id": "-evuzt3PTbmt",
        "outputId": "bd0e0cf4-233d-41fd-ec50-c1dbcfbd6f54"
      },
      "outputs": [
        {
          "output_type": "stream",
          "name": "stdout",
          "text": [
            "Unzipping Horror... (46 files)\n",
            "Extracted 1/46: Horrer Video Stimulation/\n",
            "Extracted 6/46: __MACOSX/Horrer Video Stimulation/._002 (15).edf\n",
            "Extracted 11/46: Horrer Video Stimulation/002 (18).edf\n",
            "Extracted 16/46: __MACOSX/Horrer Video Stimulation/._002 (3).edf\n",
            "Extracted 21/46: Horrer Video Stimulation/002 (13).edf\n",
            "Extracted 26/46: __MACOSX/Horrer Video Stimulation/._002 (5).edf\n",
            "Extracted 31/46: Horrer Video Stimulation/002 (6).edf\n",
            "Extracted 36/46: __MACOSX/Horrer Video Stimulation/._002 (10).edf\n",
            "Extracted 41/46: Horrer Video Stimulation/002 (20).edf\n",
            "Extracted 46/46: __MACOSX/Horrer Video Stimulation/._002 (16).edf\n",
            "Unzipping Relaxing... (42 files)\n",
            "Extracted 1/42: Participants Listening to Relaxing Music/\n",
            "Extracted 6/42: __MACOSX/Participants Listening to Relaxing Music/._001 (10).edf\n",
            "Extracted 11/42: Participants Listening to Relaxing Music/001 (11).edf\n",
            "Extracted 16/42: __MACOSX/Participants Listening to Relaxing Music/._001 (16).edf\n",
            "Extracted 21/42: Participants Listening to Relaxing Music/001 (3).edf\n",
            "Extracted 26/42: __MACOSX/Participants Listening to Relaxing Music/._001 (14).edf\n",
            "Extracted 31/42: Participants Listening to Relaxing Music/001 (1).edf\n",
            "Extracted 36/42: __MACOSX/Participants Listening to Relaxing Music/._001 (6).edf\n",
            "Extracted 41/42: Participants Listening to Relaxing Music/001 (7).edf\n",
            "\n",
            "Horror folder sample: ['__MACOSX', 'Horrer Video Stimulation']\n",
            "Relaxing folder sample: ['__MACOSX', 'Participants Listening to Relaxing Music']\n"
          ]
        }
      ],
      "source": [
        "import zipfile\n",
        "import os\n",
        "# Paths to uploaded ZIP files\n",
        "horror_zip = \"/content/Horrer Video Stimulation.zip\"\n",
        "relaxing_zip = \"/content/Participants Listening to Relaxing Music.zip\"\n",
        "# Output folders\n",
        "horror_path = \"/content/horror_data/Horrer Video Stimulation/Horrer Video Stimulation\"\n",
        "relaxing_path = \"/content/relaxing_data/Participants Listening to Relaxing Music/Participants Listening to Relaxing Music\"\n",
        "os.makedirs(horror_path, exist_ok=True)\n",
        "os.makedirs(relaxing_path, exist_ok=True)\n",
        "# Function to unzip with progress printing\n",
        "def extract_zip(zip_path, output_path, label):\n",
        "    with zipfile.ZipFile(zip_path, 'r') as zip_ref:\n",
        "        files = zip_ref.namelist()\n",
        "        print(f\"Unzipping {label}... ({len(files)} files)\")\n",
        "        for i, file in enumerate(files):\n",
        "            zip_ref.extract(file, output_path)\n",
        "            if i % 5 == 0:\n",
        "                print(f\"Extracted {i+1}/{len(files)}: {file}\")\n",
        "# Unzip horror dataset\n",
        "extract_zip(horror_zip, horror_path, label=\"Horror\")\n",
        "# Unzip relaxing dataset\n",
        "extract_zip(relaxing_zip, relaxing_path, label=\"Relaxing\")\n",
        "# Confirm extraction\n",
        "print(\"\\nHorror folder sample:\", os.listdir(horror_path)[:5])\n",
        "print(\"Relaxing folder sample:\", os.listdir(relaxing_path)[:5])\n"
      ]
    },
    {
      "cell_type": "markdown",
      "source": [
        "Installing mne and importing libraries"
      ],
      "metadata": {
        "id": "kJcZGHIsVHsC"
      }
    },
    {
      "cell_type": "code",
      "source": [
        "!pip install mne\n",
        "import os\n",
        "import numpy as np\n",
        "import mne\n",
        "from scipy.stats import entropy\n",
        "from sklearn.preprocessing import StandardScaler\n",
        "from sklearn.model_selection import StratifiedKFold, train_test_split, GridSearchCV, cross_val_score\n",
        "from sklearn.pipeline import Pipeline\n",
        "from sklearn.ensemble import RandomForestClassifier, VotingClassifier\n",
        "from sklearn.neighbors import KNeighborsClassifier\n",
        "from xgboost import XGBClassifier\n",
        "from sklearn.metrics import classification_report, confusion_matrix\n",
        "import glob"
      ],
      "metadata": {
        "colab": {
          "base_uri": "https://localhost:8080/",
          "height": 0
        },
        "id": "jdFeSBaqT51J",
        "outputId": "c30ab9e7-26b5-4da1-c319-68c098438f57"
      },
      "execution_count": 11,
      "outputs": [
        {
          "output_type": "stream",
          "name": "stdout",
          "text": [
            "Requirement already satisfied: mne in /usr/local/lib/python3.11/dist-packages (1.9.0)\n",
            "Requirement already satisfied: decorator in /usr/local/lib/python3.11/dist-packages (from mne) (4.4.2)\n",
            "Requirement already satisfied: jinja2 in /usr/local/lib/python3.11/dist-packages (from mne) (3.1.6)\n",
            "Requirement already satisfied: lazy-loader>=0.3 in /usr/local/lib/python3.11/dist-packages (from mne) (0.4)\n",
            "Requirement already satisfied: matplotlib>=3.6 in /usr/local/lib/python3.11/dist-packages (from mne) (3.10.0)\n",
            "Requirement already satisfied: numpy<3,>=1.23 in /usr/local/lib/python3.11/dist-packages (from mne) (2.0.2)\n",
            "Requirement already satisfied: packaging in /usr/local/lib/python3.11/dist-packages (from mne) (24.2)\n",
            "Requirement already satisfied: pooch>=1.5 in /usr/local/lib/python3.11/dist-packages (from mne) (1.8.2)\n",
            "Requirement already satisfied: scipy>=1.9 in /usr/local/lib/python3.11/dist-packages (from mne) (1.15.3)\n",
            "Requirement already satisfied: tqdm in /usr/local/lib/python3.11/dist-packages (from mne) (4.67.1)\n",
            "Requirement already satisfied: contourpy>=1.0.1 in /usr/local/lib/python3.11/dist-packages (from matplotlib>=3.6->mne) (1.3.2)\n",
            "Requirement already satisfied: cycler>=0.10 in /usr/local/lib/python3.11/dist-packages (from matplotlib>=3.6->mne) (0.12.1)\n",
            "Requirement already satisfied: fonttools>=4.22.0 in /usr/local/lib/python3.11/dist-packages (from matplotlib>=3.6->mne) (4.58.1)\n",
            "Requirement already satisfied: kiwisolver>=1.3.1 in /usr/local/lib/python3.11/dist-packages (from matplotlib>=3.6->mne) (1.4.8)\n",
            "Requirement already satisfied: pillow>=8 in /usr/local/lib/python3.11/dist-packages (from matplotlib>=3.6->mne) (11.2.1)\n",
            "Requirement already satisfied: pyparsing>=2.3.1 in /usr/local/lib/python3.11/dist-packages (from matplotlib>=3.6->mne) (3.2.3)\n",
            "Requirement already satisfied: python-dateutil>=2.7 in /usr/local/lib/python3.11/dist-packages (from matplotlib>=3.6->mne) (2.9.0.post0)\n",
            "Requirement already satisfied: platformdirs>=2.5.0 in /usr/local/lib/python3.11/dist-packages (from pooch>=1.5->mne) (4.3.8)\n",
            "Requirement already satisfied: requests>=2.19.0 in /usr/local/lib/python3.11/dist-packages (from pooch>=1.5->mne) (2.32.3)\n",
            "Requirement already satisfied: MarkupSafe>=2.0 in /usr/local/lib/python3.11/dist-packages (from jinja2->mne) (3.0.2)\n",
            "Requirement already satisfied: six>=1.5 in /usr/local/lib/python3.11/dist-packages (from python-dateutil>=2.7->matplotlib>=3.6->mne) (1.17.0)\n",
            "Requirement already satisfied: charset-normalizer<4,>=2 in /usr/local/lib/python3.11/dist-packages (from requests>=2.19.0->pooch>=1.5->mne) (3.4.2)\n",
            "Requirement already satisfied: idna<4,>=2.5 in /usr/local/lib/python3.11/dist-packages (from requests>=2.19.0->pooch>=1.5->mne) (3.10)\n",
            "Requirement already satisfied: urllib3<3,>=1.21.1 in /usr/local/lib/python3.11/dist-packages (from requests>=2.19.0->pooch>=1.5->mne) (2.4.0)\n",
            "Requirement already satisfied: certifi>=2017.4.17 in /usr/local/lib/python3.11/dist-packages (from requests>=2.19.0->pooch>=1.5->mne) (2025.4.26)\n"
          ]
        }
      ]
    },
    {
      "cell_type": "markdown",
      "source": [
        "EEG Channel Selection and Hjorth Parameter"
      ],
      "metadata": {
        "id": "xmE0KrCnVShu"
      }
    },
    {
      "cell_type": "code",
      "source": [
        "eeg_channels = ['AF3', 'AF4', 'T7', 'T8', 'Pz']\n",
        "\n",
        "def compute_hjorth_parameters(signal):\n",
        "    first_deriv = np.diff(signal)\n",
        "    second_deriv = np.diff(first_deriv)\n",
        "    var_zero = np.var(signal)\n",
        "    var_d1 = np.var(first_deriv)\n",
        "    var_d2 = np.var(second_deriv)\n",
        "\n",
        "    activity = var_zero\n",
        "    mobility = np.sqrt(var_d1 / var_zero) if var_zero > 0 else 0\n",
        "    complexity = (np.sqrt(var_d2 / var_d1) / mobility) if var_d1 > 0 and mobility > 0 else 0\n",
        "    return activity, mobility, complexity\n"
      ],
      "metadata": {
        "id": "WgTO8F_hVLJv"
      },
      "execution_count": 12,
      "outputs": []
    },
    {
      "cell_type": "markdown",
      "source": [
        "Feature Extraction"
      ],
      "metadata": {
        "id": "AEPUC5nBVf7F"
      }
    },
    {
      "cell_type": "code",
      "source": [
        "def extract_features_from_folder(folder_path, label):\n",
        "    X, y = [], []\n",
        "    files = sorted(glob.glob(os.path.join(folder_path, \"**/*.edf\"), recursive=True))\n",
        "    print(f\"Found {len(files)} files in {folder_path}\")\n",
        "\n",
        "    for fname in files:\n",
        "        try:\n",
        "            raw = mne.io.read_raw_edf(os.path.join(folder_path, fname), preload=True, verbose=False)\n",
        "            raw = raw.copy().pick([ch for ch in eeg_channels if ch in raw.ch_names])\n",
        "\n",
        "            if len(raw.ch_names) < 3:\n",
        "                print(f\"Skipping {fname} due to insufficient channels.\")\n",
        "                continue\n",
        "\n",
        "            psds = raw.compute_psd(fmin=8, fmax=30).get_data()\n",
        "            mean_psd = np.mean(psds, axis=1)\n",
        "            var_psd = np.var(psds, axis=1)\n",
        "            entropies = np.array([entropy(ch) for ch in psds])\n",
        "            hjorths = np.array([compute_hjorth_parameters(ch) for ch in psds]).flatten()\n",
        "\n",
        "            features = np.concatenate([mean_psd, var_psd, entropies, hjorths])\n",
        "            X.append(features)\n",
        "            y.append(label)\n",
        "        except Exception as e:\n",
        "            print(f\"Error reading {fname}: {e}\")\n",
        "    return X, y\n"
      ],
      "metadata": {
        "id": "_8PHpAhNVaqm"
      },
      "execution_count": 13,
      "outputs": []
    },
    {
      "cell_type": "markdown",
      "source": [
        "Load and process data"
      ],
      "metadata": {
        "id": "y_vmtXGvVt4w"
      }
    },
    {
      "cell_type": "code",
      "source": [
        "X_horror, y_horror = extract_features_from_folder(horror_path, label=1)\n",
        "X_relax, y_relax = extract_features_from_folder(relaxing_path, label=0)\n",
        "X = np.array(X_horror + X_relax)\n",
        "y = np.array(y_horror + y_relax)\n",
        "print(f\"\\nFeature matrix shape: {X.shape}, Labels: {len(y)}\")"
      ],
      "metadata": {
        "colab": {
          "base_uri": "https://localhost:8080/",
          "height": 0
        },
        "id": "v47jnyqNVjJY",
        "outputId": "fd88cf72-8825-4b09-9d5e-e1d2ed388f27"
      },
      "execution_count": 14,
      "outputs": [
        {
          "output_type": "stream",
          "name": "stdout",
          "text": [
            "Found 22 files in /content/horror_data/Horrer Video Stimulation/Horrer Video Stimulation\n",
            "Effective window size : 16.000 (s)\n",
            "Effective window size : 16.000 (s)\n",
            "Effective window size : 16.000 (s)\n",
            "Effective window size : 16.000 (s)\n",
            "Effective window size : 16.000 (s)\n",
            "Effective window size : 16.000 (s)\n",
            "Effective window size : 16.000 (s)\n",
            "Effective window size : 16.000 (s)\n",
            "Effective window size : 16.000 (s)\n",
            "Effective window size : 16.000 (s)\n",
            "Effective window size : 16.000 (s)\n",
            "Effective window size : 16.000 (s)\n",
            "Effective window size : 16.000 (s)\n",
            "Effective window size : 16.000 (s)\n",
            "Effective window size : 16.000 (s)\n",
            "Effective window size : 16.000 (s)\n",
            "Effective window size : 16.000 (s)\n",
            "Effective window size : 16.000 (s)\n",
            "Effective window size : 16.000 (s)\n",
            "Effective window size : 16.000 (s)\n",
            "Effective window size : 16.000 (s)\n",
            "Effective window size : 16.000 (s)\n",
            "Found 20 files in /content/relaxing_data/Participants Listening to Relaxing Music/Participants Listening to Relaxing Music\n",
            "Effective window size : 16.000 (s)\n",
            "Effective window size : 16.000 (s)\n",
            "Effective window size : 16.000 (s)\n",
            "Effective window size : 16.000 (s)\n",
            "Effective window size : 16.000 (s)\n",
            "Effective window size : 16.000 (s)\n",
            "Effective window size : 16.000 (s)\n",
            "Effective window size : 16.000 (s)\n",
            "Effective window size : 16.000 (s)\n",
            "Effective window size : 16.000 (s)\n",
            "Effective window size : 16.000 (s)\n",
            "Effective window size : 16.000 (s)\n",
            "Effective window size : 16.000 (s)\n",
            "Effective window size : 16.000 (s)\n",
            "Effective window size : 16.000 (s)\n",
            "Effective window size : 16.000 (s)\n",
            "Effective window size : 16.000 (s)\n",
            "Effective window size : 16.000 (s)\n",
            "Effective window size : 16.000 (s)\n",
            "Effective window size : 16.000 (s)\n",
            "\n",
            "Feature matrix shape: (42, 30), Labels: 42\n"
          ]
        }
      ]
    },
    {
      "cell_type": "markdown",
      "source": [
        "Classifier ensemble"
      ],
      "metadata": {
        "id": "cPlzb2SpV7hA"
      }
    },
    {
      "cell_type": "code",
      "source": [
        "rf = RandomForestClassifier(random_state=42)\n",
        "xgb = XGBClassifier(eval_metric='logloss')\n",
        "knn = KNeighborsClassifier()\n",
        "ensemble = VotingClassifier(estimators=[\n",
        "    ('rf', rf),\n",
        "    ('xgb', xgb),\n",
        "    ('knn', knn)\n",
        "], voting='soft')\n",
        "pipeline = Pipeline([\n",
        "    ('scaler', StandardScaler()),\n",
        "    ('clf', ensemble)\n",
        "])"
      ],
      "metadata": {
        "id": "GQI0kNfkVv94"
      },
      "execution_count": 15,
      "outputs": []
    },
    {
      "cell_type": "markdown",
      "source": [
        "1. Stratified K-Fold Cross Validation"
      ],
      "metadata": {
        "id": "CkoSud9aWM7s"
      }
    },
    {
      "cell_type": "code",
      "source": [
        "print(\"\\n3-Fold Stratified Cross-Validation\")\n",
        "skf = StratifiedKFold(n_splits=3, shuffle=True, random_state=42)\n",
        "scores_3fold = cross_val_score(pipeline, X, y, cv=skf, scoring='accuracy')\n",
        "for i, score in enumerate(scores_3fold, 1):\n",
        "    print(f\"Fold {i}: {score:.2f}\")\n",
        "print(f\"Average 3-Fold Accuracy: {scores_3fold.mean():.2f}\")"
      ],
      "metadata": {
        "colab": {
          "base_uri": "https://localhost:8080/",
          "height": 0
        },
        "id": "ueJ5Ge3sWHdi",
        "outputId": "2654a013-9b4c-4cbc-f9c8-eebecc17b940"
      },
      "execution_count": 20,
      "outputs": [
        {
          "output_type": "stream",
          "name": "stdout",
          "text": [
            "\n",
            "3-Fold Stratified Cross-Validation\n",
            "Fold 1: 0.86\n",
            "Fold 2: 0.86\n",
            "Fold 3: 0.57\n",
            "Average 3-Fold Accuracy: 0.76\n"
          ]
        }
      ]
    },
    {
      "cell_type": "markdown",
      "source": [
        " Holdout Evaluation (80/20 split)"
      ],
      "metadata": {
        "id": "04Y5o-WqW3OD"
      }
    },
    {
      "cell_type": "code",
      "source": [
        "print(\"\\n80/20 Holdout Evaluation\")\n",
        "X_train, X_test, y_train, y_test = train_test_split(X, y, test_size=0.2, stratify=y, random_state=42)\n",
        "pipeline.fit(X_train, y_train)\n",
        "y_pred = pipeline.predict(X_test)\n",
        "cm = confusion_matrix(y_test, y_pred)\n",
        "\n",
        "print(\"Confusion Matrix:\\n\", confusion_matrix(y_test, y_pred))\n",
        "print(\"Classification Report:\\n\", classification_report(y_test, y_pred))"
      ],
      "metadata": {
        "colab": {
          "base_uri": "https://localhost:8080/",
          "height": 0
        },
        "id": "zCJnGpvSWvPX",
        "outputId": "52afba8e-8038-4079-b013-e8e46a6e48d8"
      },
      "execution_count": 27,
      "outputs": [
        {
          "output_type": "stream",
          "name": "stdout",
          "text": [
            "\n",
            "80/20 Holdout Evaluation\n",
            "Confusion Matrix:\n",
            " [[3 1]\n",
            " [1 4]]\n",
            "Classification Report:\n",
            "               precision    recall  f1-score   support\n",
            "\n",
            "           0       0.75      0.75      0.75         4\n",
            "           1       0.80      0.80      0.80         5\n",
            "\n",
            "    accuracy                           0.78         9\n",
            "   macro avg       0.78      0.78      0.78         9\n",
            "weighted avg       0.78      0.78      0.78         9\n",
            "\n"
          ]
        }
      ]
    },
    {
      "cell_type": "markdown",
      "source": [
        "GridSearch on XGBoost parameters"
      ],
      "metadata": {
        "id": "2IbzmCzcXFaE"
      }
    },
    {
      "cell_type": "code",
      "source": [
        "print(\"\\nGridSearchCV on XGBoost\")\n",
        "param_grid = {\n",
        "    'clf__xgb__learning_rate': [0.05, 0.1],\n",
        "    'clf__xgb__max_depth': [3, 5]\n",
        "}\n",
        "grid = GridSearchCV(pipeline, param_grid, cv=3, scoring='accuracy')\n",
        "grid.fit(X, y)\n",
        "print(\"Best Parameters:\", grid.best_params_)\n",
        "print(\"Best GridSearch Accuracy:\", grid.best_score_)\n"
      ],
      "metadata": {
        "colab": {
          "base_uri": "https://localhost:8080/",
          "height": 0
        },
        "id": "G9v_j1AmW7C6",
        "outputId": "c4349fb7-df15-43fd-eb25-46d4c4f77bb5"
      },
      "execution_count": 28,
      "outputs": [
        {
          "output_type": "stream",
          "name": "stdout",
          "text": [
            "\n",
            "GridSearchCV on XGBoost\n",
            "Best Parameters: {'clf__xgb__learning_rate': 0.05, 'clf__xgb__max_depth': 3}\n",
            "Best GridSearch Accuracy: 0.7380952380952381\n"
          ]
        }
      ]
    },
    {
      "cell_type": "markdown",
      "source": [
        "Repeated CV with different seeds"
      ],
      "metadata": {
        "id": "2iqqfsbEXk4i"
      }
    },
    {
      "cell_type": "code",
      "source": [
        "print(\"\\nRepeated Stratified K-Fold (5 Seeds)\")\n",
        "seeds = [10, 20, 42, 77, 99]\n",
        "avg_scores = []\n",
        "for seed in seeds:\n",
        "    skf = StratifiedKFold(n_splits=3, shuffle=True, random_state=seed)\n",
        "    score = cross_val_score(pipeline, X, y, cv=skf, scoring='accuracy').mean()\n",
        "    print(f\"Seed {seed}: Accuracy = {score:.2f}\")\n",
        "    avg_scores.append(score)\n",
        "\n",
        "print(f\"\\nFinal Averaged Accuracy Across Seeds: {np.mean(avg_scores):.2f}\")\n"
      ],
      "metadata": {
        "colab": {
          "base_uri": "https://localhost:8080/",
          "height": 0
        },
        "id": "KvmYcR_7XIwr",
        "outputId": "e96523fb-4d87-4fa3-83a6-51c8c9092b46"
      },
      "execution_count": 29,
      "outputs": [
        {
          "output_type": "stream",
          "name": "stdout",
          "text": [
            "\n",
            "Repeated Stratified K-Fold (5 Seeds)\n",
            "Seed 10: Accuracy = 0.79\n",
            "Seed 20: Accuracy = 0.76\n",
            "Seed 42: Accuracy = 0.76\n",
            "Seed 77: Accuracy = 0.69\n",
            "Seed 99: Accuracy = 0.76\n",
            "\n",
            "Final Averaged Accuracy Across Seeds: 0.75\n"
          ]
        }
      ]
    },
    {
      "cell_type": "code",
      "source": [
        "from sklearn.metrics import ConfusionMatrixDisplay\n",
        "import matplotlib.pyplot as plt\n",
        "\n",
        "disp = ConfusionMatrixDisplay(confusion_matrix=cm, display_labels=[\"Relaxing\", \"Horror\"])\n",
        "plt.figure(figsize=(6, 5))\n",
        "disp.plot(cmap='Blues', values_format='d')\n",
        "plt.title(\"Confusion Matrix (Holdout Evaluation)\")\n",
        "plt.show()"
      ],
      "metadata": {
        "colab": {
          "base_uri": "https://localhost:8080/",
          "height": 489
        },
        "id": "sUAb4IdjXrWw",
        "outputId": "950f0339-5e94-43c7-ce4c-e661d8261c24"
      },
      "execution_count": 30,
      "outputs": [
        {
          "output_type": "display_data",
          "data": {
            "text/plain": [
              "<Figure size 600x500 with 0 Axes>"
            ]
          },
          "metadata": {}
        },
        {
          "output_type": "display_data",
          "data": {
            "text/plain": [
              "<Figure size 640x480 with 2 Axes>"
            ],
            "image/png": "[encoded data removed]"
          },
          "metadata": {}
        }
      ]
    }
  ]
}